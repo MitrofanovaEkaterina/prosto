{
  "nbformat": 4,
  "nbformat_minor": 0,
  "metadata": {
    "colab": {
      "provenance": [],
      "authorship_tag": "ABX9TyNxh4/pYmSLOUDZxojbLD+x",
      "include_colab_link": true
    },
    "kernelspec": {
      "name": "python3",
      "display_name": "Python 3"
    },
    "language_info": {
      "name": "python"
    }
  },
  "cells": [
    {
      "cell_type": "markdown",
      "metadata": {
        "id": "view-in-github",
        "colab_type": "text"
      },
      "source": [
        "<a href=\"https://colab.research.google.com/github/MitrofanovaEkaterina/prosto/blob/main/sql.ipynb\" target=\"_parent\"><img src=\"https://colab.research.google.com/assets/colab-badge.svg\" alt=\"Open In Colab\"/></a>"
      ]
    },
    {
      "cell_type": "code",
      "execution_count": null,
      "metadata": {
        "id": "mdObmVzNy0AB"
      },
      "outputs": [],
      "source": [
        "# Создание таблицы School\n",
        "import sqlite3\n",
        "\n",
        "connection = sqlite3.connect('teatchers.db')\n",
        "cursor = connection.cursor()\n",
        "query = \"\"\"CREATE TABLE School \n",
        "(\n",
        "School_Id INTEGER NOT NULL PRIMARY KEY, \n",
        "School_Name TEXT NOT NULL, \n",
        "Place_Count INTEGER NOT NULL\n",
        ");\n",
        "\"\"\"\n",
        "cursor.execute(query)\n",
        "connection.commit()\n",
        "connection.close()\n"
      ]
    },
    {
      "cell_type": "code",
      "source": [
        "# Наполнение таблицы School\n",
        "import sqlite3\n",
        "\n",
        "connection = sqlite3.connect('teatchers.db')\n",
        "cursor = connection.cursor()\n",
        "query = \"\"\"INSERT INTO School (School_Id, School_Name, Place_Count) \n",
        "VALUES \n",
        "('1', 'Протон', 200), \n",
        "('2', 'Преспектива', 300), \n",
        "('3', 'Спектр', 400), \n",
        "('4', 'Содружество', 500);\n",
        "\"\"\"\n",
        "cursor.execute(query)\n",
        "connection.commit()\n",
        "connection.close()\n"
      ],
      "metadata": {
        "id": "8J9-CdLL0oWX"
      },
      "execution_count": null,
      "outputs": []
    },
    {
      "cell_type": "code",
      "source": [
        "# Создание таблицы Teacher\n",
        "import sqlite3\n",
        "\n",
        "connection = sqlite3.connect('teatchers.db')\n",
        "cursor = connection.cursor()\n",
        "query = \"\"\"CREATE TABLE Teatcher \n",
        "( \n",
        "  Teatcher_Id INTEGER NOT NULL PRIMARY KEY, \n",
        "  Teatcher_Name TEXT NOT NULL, \n",
        "  School_Id INTEGER NOT NULL, \n",
        "  Joining_Date TEXT NOT NULL, \n",
        "  Speciality TEXT NOT NULL, \n",
        "  Salary INTEGER NOT NULL,\n",
        "  Experience INTEGER\n",
        ");\n",
        "\"\"\"\n",
        "cursor.execute(query)\n",
        "connection.commit()\n",
        "connection.close()"
      ],
      "metadata": {
        "id": "LGnpWCDJ0pdB"
      },
      "execution_count": null,
      "outputs": []
    },
    {
      "cell_type": "code",
      "source": [
        "# Наполнение таблицы Teacher\n",
        "import sqlite3\n",
        "\n",
        "connection = sqlite3.connect('teatchers.db')\n",
        "cursor = connection.cursor()\n",
        "query = \"\"\"INSERT INTO Teatcher (Teatcher_Id, Teatcher_Name, School_Id, Joining_Date, Speciality, Salary, Experience) \n",
        "VALUES \n",
        "('101', 'Галина', '1', '2021-2-10', 'Физик', '40000', NULL), \n",
        "('102', 'Мария', '1', '2018-07-23', 'Химик', '20000', NULL), \n",
        "('103', 'Ольга', '2', '2022-05-19', 'Информатик', '25000', NULL), \n",
        "('104', 'Полина', '2', '2017-12-28', 'Физик ', '28000', NULL), \n",
        "('105', 'Лидия', '3', '2015-06-04', 'Информатик', '42000', NULL), \n",
        "('106', 'Анастасия', '3', '2019-09-11', 'Учитель трудов', '30000', NULL), \n",
        "('107', 'Ирина', '4', '2020-08-21', 'Информатик', '32000', NULL), \n",
        "('108', 'Виктория', '4', '2017-10-17', 'Географ', '30000', NULL);\n",
        "\"\"\"\n",
        "cursor.execute(query)\n",
        "connection.commit()\n",
        "connection.close()"
      ],
      "metadata": {
        "id": "1af3_yI90pte"
      },
      "execution_count": null,
      "outputs": []
    },
    {
      "cell_type": "code",
      "source": [
        "# Общение с БД\n",
        "import sqlite3\n",
        "\n",
        "connection = sqlite3.connect('teatchers.db') # Подключаюсь к БД\n",
        "cursor = connection.cursor() # Определяю Курсор\n",
        "query = \"SELECT * FROM School;\" # Задаю переменную с SQL запросом\n",
        "cursor.execute(query) # С помощью курсора выполняю SQL запрос\n",
        "record = cursor.fetchall() # Вывожу все результаты в переменную record (кортеж списков)\n",
        "connection.close() # Отключаюсь от БД\n",
        "print (record)\n",
        "\n",
        "import sqlite3\n",
        "\n",
        "connection = sqlite3.connect('test.db')"
      ],
      "metadata": {
        "colab": {
          "base_uri": "https://localhost:8080/"
        },
        "id": "n0DV72NVzc_G",
        "outputId": "2c654811-a4ad-4c7e-d475-71d7e8fc1fb2"
      },
      "execution_count": null,
      "outputs": [
        {
          "output_type": "stream",
          "name": "stdout",
          "text": [
            "[(1, 'Протон', 200), (2, 'Преспектива', 300), (3, 'Спектр', 400), (4, 'Содружество', 500)]\n"
          ]
        }
      ]
    },
    {
      "cell_type": "code",
      "source": [
        "# Создание таблицы Students\n",
        "import sqlite3\n",
        "\n",
        "connection = sqlite3.connect('teatchers.db')\n",
        "cursor = connection.cursor()\n",
        "query = \"\"\"CREATE TABLE Students\n",
        "( \n",
        "  Student_Id INTEGER NOT NULL PRIMARY KEY, \n",
        "  Student_Name TEXT NOT NULL, \n",
        "  School_Id INTEGER NOT NULL\n",
        "  );\n",
        "\"\"\"\n",
        "cursor.execute(query)\n",
        "connection.commit()\n",
        "connection.close()"
      ],
      "metadata": {
        "id": "UlF3Qi2hzfsC"
      },
      "execution_count": null,
      "outputs": []
    },
    {
      "cell_type": "code",
      "source": [
        "# Наполнение таблицы Students\n",
        "import sqlite3\n",
        "\n",
        "connection = sqlite3.connect('teatchers.db')\n",
        "cursor = connection.cursor()\n",
        "query = \"\"\"INSERT INTO Students (Student_Id, Student_Name, School_Id) \n",
        "VALUES \n",
        "('201', 'Иван', '1'), \n",
        "('202', 'Петр', '2'), \n",
        "('203', 'Анастасия', '3'), \n",
        "('204', 'Игорь', '4');\n",
        "\"\"\"\n",
        "cursor.execute(query)\n",
        "connection.commit()\n",
        "connection.close()"
      ],
      "metadata": {
        "id": "U1I7V0So1t7Q"
      },
      "execution_count": null,
      "outputs": []
    },
    {
      "cell_type": "code",
      "source": [
        "# Решение задачи\n",
        "import sqlite3\n",
        "\n",
        "def get_connection():\n",
        "  connection = sqlite3.connect('teatchers.db')\n",
        "  return connection\n",
        "\n",
        "def close_connection(connection):\n",
        "  if connection:\n",
        "    connection.close()\n",
        "\n",
        "\n",
        "def get_school_name(school_id):\n",
        "  try:\n",
        "    connection = get_connection()\n",
        "    cursor = connection.cursor()\n",
        "    select_query = \"\"\"SELECT * FROM School WHERE School_Id = ?\"\"\"\n",
        "    cursor.execute(select_query, (school_id,))\n",
        "    record = cursor.fetchone()\n",
        "    close_connection(connection)\n",
        "    return record[1] # Наименование школы\n",
        "  except (Exception, sqlite3.Error) as error:\n",
        "    print (\"Ошибка в получении данных по школе \", error)\n",
        "\n",
        "\n",
        "def get_student(student_id):\n",
        "  try:\n",
        "    connection = get_connection()\n",
        "    cursor = connection.cursor()\n",
        "    select_query = \"\"\"SELECT * FROM Students WHERE student_id = ?\"\"\"\n",
        "    cursor.execute(select_query, (student_id,))\n",
        "    records = cursor.fetchall()\n",
        "\n",
        "    print (\"Данные о cтуденте\")\n",
        "    for row in records:\n",
        "      print (\"ID студента\", row[0])\n",
        "      print (\"Имя студента\", row[1])\n",
        "      print (\"ID школы\", row[2])\n",
        "      print (\"Название школы\", get_school_name(row[2]))\n",
        "    close_connection(connection)\n",
        "\n",
        "  except (Exception, sqlite3.Error) as error:\n",
        "    print (\"Ошибка в получении данных по школе \", error)\n",
        "\n",
        "print (\"Решение задачи \\n\")\n",
        "get_student(203)\n"
      ],
      "metadata": {
        "colab": {
          "base_uri": "https://localhost:8080/"
        },
        "id": "KefKjtNY49YJ",
        "outputId": "bb270b1f-b10b-4596-f453-e46d536b5bcb"
      },
      "execution_count": null,
      "outputs": [
        {
          "output_type": "stream",
          "name": "stdout",
          "text": [
            "Решение задачи \n",
            "\n",
            "Данные о cтуденте\n",
            "ID студента 203\n",
            "Имя студента Анастасия\n",
            "ID школы 3\n",
            "Название школы Спектр\n"
          ]
        }
      ]
    }
  ]
}